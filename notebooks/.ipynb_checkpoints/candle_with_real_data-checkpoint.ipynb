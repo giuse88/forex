{
 "cells": [
  {
   "cell_type": "code",
   "execution_count": 1,
   "metadata": {
    "collapsed": false
   },
   "outputs": [],
   "source": [
    "import ipywidgets as widgets\n",
    "from IPython.display import display\n",
    "\n",
    "S_30 = 30\n",
    "M_1  = 60\n",
    "M_2  = 120\n",
    "M_5  = 300\n",
    "M_15 = 900\n",
    "\n",
    "w = widgets.Dropdown(\n",
    "    options={'30 Seconds': S_30, '1 Minute': M_1, '2 Minutes': M_2, '5 Minutes': M_5},\n",
    "    value=S_30,\n",
    "    description='Time frame :',\n",
    ")\n",
    "\n",
    "display(w)\n"
   ]
  },
  {
   "cell_type": "code",
   "execution_count": 2,
   "metadata": {
    "collapsed": false
   },
   "outputs": [
    {
     "name": "stdout",
     "output_type": "stream",
     "text": [
      "Selected time frame 60\n"
     ]
    }
   ],
   "source": [
    "time_frame = w.value\n",
    "print(\"Selected time frame \" + str(time_frame))"
   ]
  },
  {
   "cell_type": "code",
   "execution_count": 5,
   "metadata": {
    "collapsed": false
   },
   "outputs": [],
   "source": [
    "#load data\n",
    "import csv\n",
    "import os\n",
    "from datetime import datetime, timedelta\n",
    "import time\n",
    "\n",
    "raw_candles = {}\n",
    "\n",
    "#should be in input\n",
    "\n",
    "BID_COLUMN = 2\n",
    "ASK_COLUMN = 1\n",
    "\n",
    "with open(os.path.join(os.getcwd(), '../data/EURUSD_Ticks_08.02.2016-08.02.2016.csv'), 'r') as csvfile:\n",
    "    reader = csv.reader(csvfile, delimiter=',')\n",
    "    reader.__next__()\n",
    "    reader.__next__()\n",
    "    for row in reader:\n",
    "        ts = time.mktime(datetime.strptime(row[0], '%d.%m.%Y %H:%M:%S.%f').timetuple())\n",
    "        key = int(ts - (ts%time_frame))\n",
    "        if raw_candles.get(key) is None:\n",
    "            raw_candles[key] = []\n",
    "        raw_candles[key].append(row[BID_COLUMN])"
   ]
  },
  {
   "cell_type": "code",
   "execution_count": 8,
   "metadata": {
    "collapsed": false
   },
   "outputs": [
    {
     "name": "stdout",
     "output_type": "stream",
     "text": [
      "2016-02-08 00:00:00{ H:1.11441 L:1.11419 O: 1.11434 C: 1.11436 }\n",
      "2016-02-08 00:01:00{ H:1.11437 L:1.11425 O: 1.11437 C: 1.11425 }\n",
      "2016-02-08 00:02:00{ H:1.11428 L:1.11417 O: 1.11428 C: 1.11425 }\n",
      "2016-02-08 00:03:00{ H:1.11431 L:1.11425 O: 1.11425 C: 1.11430 }\n",
      "2016-02-08 00:04:00{ H:1.11430 L:1.11430 O: 1.11430 C: 1.11430 }\n",
      "2016-02-08 00:05:00{ H:1.11431 L:1.11429 O: 1.11431 C: 1.11430 }\n",
      "2016-02-08 00:06:00{ H:1.11430 L:1.11417 O: 1.11430 C: 1.11426 }\n",
      "2016-02-08 00:07:00{ H:1.11431 L:1.11419 O: 1.11425 C: 1.11423 }\n",
      "2016-02-08 00:08:00{ H:1.11441 L:1.11422 O: 1.11425 C: 1.11440 }\n",
      "2016-02-08 00:09:00{ H:1.11441 L:1.11439 O: 1.11440 C: 1.11440 }\n"
     ]
    }
   ],
   "source": [
    "#Trasform data in a candle\n",
    "\n",
    "class Candle:\n",
    "    \n",
    "    def __init__(self, timestamp, timeframe, sortedValues):\n",
    "        self.timestamp = timestamp\n",
    "        self.timeframe = timeframe\n",
    "        self.open_price = sortedValues[0]\n",
    "        self.close_price = sortedValues[len(sortedValues) - 1]\n",
    "        self.high  = max(sortedValues)\n",
    "        self.low = min(sortedValues)\n",
    "        \n",
    "    def __str__(self):\n",
    "        return str(datetime.fromtimestamp(self.timestamp)) \\\n",
    "         + \"{ H:\" + str(self.high) + \" L:\" + str(self.low) + \" O: \" \\\n",
    "         + str(self.open_price) + \" C: \" + str(self.close_price)+ \" }\"\n",
    "     \n",
    "    def __repr__(self):\n",
    "        return self.__str__()\n",
    "\n",
    "candles = []\n",
    "\n",
    "for k in list(raw_candles.keys()):\n",
    "    candles.append(Candle(k, time_frame, raw_candles[k]))\n",
    "\n",
    "candles.sort(key=lambda x: x.timestamp)\n",
    "\n",
    "for c in candles[0:10]:\n",
    "    print(c)"
   ]
  },
  {
   "cell_type": "code",
   "execution_count": null,
   "metadata": {
    "collapsed": true
   },
   "outputs": [],
   "source": []
  }
 ],
 "metadata": {
  "kernelspec": {
   "display_name": "Python 3",
   "language": "python",
   "name": "python3"
  },
  "language_info": {
   "codemirror_mode": {
    "name": "ipython",
    "version": 3
   },
   "file_extension": ".py",
   "mimetype": "text/x-python",
   "name": "python",
   "nbconvert_exporter": "python",
   "pygments_lexer": "ipython3",
   "version": "3.4.2"
  }
 },
 "nbformat": 4,
 "nbformat_minor": 0
}
